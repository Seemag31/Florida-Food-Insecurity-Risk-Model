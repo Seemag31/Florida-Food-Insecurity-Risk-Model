{
 "cells": [
  {
   "cell_type": "markdown",
   "metadata": {},
   "source": [
    "# Florida Food Insecurity Risk Model\n",
    "#### By Seema Guruvadoo"
   ]
  },
  {
   "cell_type": "markdown",
   "metadata": {},
   "source": [
    "# Project Goal:  \n",
    "Test if access to resources like internet, vehicle, and kitchen is linked to food insecurity in Florida counties.  \n",
    "Build a prediction model that can guess if a county has a high or low risk of food insecurity.  \n",
    "* Aid NGOs in allocating appropriate resources to high risk counties  \n",
    "* Understand how important basic resoursces are and how they might drive risk in food security\n",
    "\n",
    "### Problem Statement:\n",
    "\"Food insecurity is defined by the United States Department of Agriculture (USDA) as the lack of access to enough\n",
    "food for an active, healthy life due to limited financial resources.\" \n",
    " -- FeedingAmerica.org\n",
    "\n",
    "This project will focus primarily on the 'access' pillar of food security   \n",
    "*food security pillars: access, availability, utilization, and stability*\n",
    "\n",
    "These 3 variables are chosen at random. The study aims to evaluated 3 resources and determine if lack of access to these resources might be related to high food insecurity."
   ]
  },
  {
   "cell_type": "markdown",
   "metadata": {},
   "source": [
    "### Phase 1: Selecting the data\n",
    "\n",
    "With over 67 counties in Florida, many residents come from various socioeconomical backgrounds. This project aims to evaluate how resources like access to the internet, a vehicle, kitchen may affect food security. Based off this analysis, a further evaluation with a prediction model will determine if the county is at high/low risk. \n",
    "Two datasets have been selected to analyze the food access crisis in Florida.\n",
    "1) \"Map the Meal Gap\" Data by Feeding America - delineates data on impacted people/children, racial and ethnic identities, % of people who are food insecure and unlikely to quality for federal assistance, and money required to buy just enough food\n",
    "2) American Community Survey: delineates data on internet access, vehicle access, and kitchen access\n",
    "\n"
   ]
  },
  {
   "cell_type": "markdown",
   "metadata": {},
   "source": [
    "### Relevant data to this analysis:\n",
    "\n",
    "1) Map the Meal Gap: County, State, Year, Overall Food Insecurity Rate\n",
    "  \n",
    "2) American Community Survey: Internet Access (B28002), Vehicle Access (B08201), Kitchen Access (B25051)\n",
    "\n",
    "3) Observed Year: 2019 - 2020 (Please note the year before COVID)"
   ]
  },
  {
   "cell_type": "code",
   "execution_count": 3,
   "metadata": {
    "execution": {
     "iopub.execute_input": "2025-04-28T01:05:59.863452Z",
     "iopub.status.busy": "2025-04-28T01:05:59.863055Z",
     "iopub.status.idle": "2025-04-28T01:06:01.613664Z",
     "shell.execute_reply": "2025-04-28T01:06:01.612457Z",
     "shell.execute_reply.started": "2025-04-28T01:05:59.863412Z"
    },
    "trusted": true
   },
   "outputs": [],
   "source": [
    "# Import Library\n",
    "\n",
    "import pandas as pd\n",
    "import matplotlib.pyplot as plt\n",
    "import seaborn as sns\n",
    "import numpy as np"
   ]
  },
  {
   "cell_type": "code",
   "execution_count": 4,
   "metadata": {
    "execution": {
     "iopub.execute_input": "2025-04-28T01:06:01.615420Z",
     "iopub.status.busy": "2025-04-28T01:06:01.614831Z",
     "iopub.status.idle": "2025-04-28T01:06:01.761874Z",
     "shell.execute_reply": "2025-04-28T01:06:01.760702Z",
     "shell.execute_reply.started": "2025-04-28T01:06:01.615381Z"
    },
    "trusted": true
   },
   "outputs": [],
   "source": [
    "# Load Data\n",
    "vehicle_df = pd.read_csv('C:/Users/Seema/OneDrive/Desktop/Insecurity in Food/ACSDT1Y2019.B08201-Data.csv', encoding='latin1') # ACS vehicle data\n",
    "kitchen_df = pd.read_csv('C:/Users/Seema/OneDrive/Desktop/Insecurity in Food/ACSDT1Y2019.B25051-Data.csv', encoding='latin1') # ACS kitchen data\n",
    "internet_df = pd.read_csv('C:/Users/Seema/OneDrive/Desktop/Insecurity in Food/ACSDT1Y2019.B28002-Data.csv', encoding='latin1') # ACS internet data\n",
    "feedAmerica_df = pd.read_csv('C:/Users/Seema/OneDrive/Desktop/Insecurity in Food/FeedAmerica2019-2022.csv', encoding='latin1') # Feed America"
   ]
  },
  {
   "cell_type": "markdown",
   "metadata": {},
   "source": [
    "### Phase 2: Clean and Merge Datasets"
   ]
  },
  {
   "cell_type": "code",
   "execution_count": 5,
   "metadata": {
    "execution": {
     "iopub.execute_input": "2025-04-28T01:06:01.765195Z",
     "iopub.status.busy": "2025-04-28T01:06:01.764849Z",
     "iopub.status.idle": "2025-04-28T01:06:01.819849Z",
     "shell.execute_reply": "2025-04-28T01:06:01.818716Z",
     "shell.execute_reply.started": "2025-04-28T01:06:01.765170Z"
    },
    "trusted": true
   },
   "outputs": [
    {
     "data": {
      "text/html": [
       "<div>\n",
       "<style scoped>\n",
       "    .dataframe tbody tr th:only-of-type {\n",
       "        vertical-align: middle;\n",
       "    }\n",
       "\n",
       "    .dataframe tbody tr th {\n",
       "        vertical-align: top;\n",
       "    }\n",
       "\n",
       "    .dataframe thead th {\n",
       "        text-align: right;\n",
       "    }\n",
       "</style>\n",
       "<table border=\"1\" class=\"dataframe\">\n",
       "  <thead>\n",
       "    <tr style=\"text-align: right;\">\n",
       "      <th></th>\n",
       "      <th>County</th>\n",
       "      <th>Food Insecurity Rate</th>\n",
       "    </tr>\n",
       "  </thead>\n",
       "  <tbody>\n",
       "    <tr>\n",
       "      <th>1284</th>\n",
       "      <td>Alachua County</td>\n",
       "      <td>13.4</td>\n",
       "    </tr>\n",
       "    <tr>\n",
       "      <th>1288</th>\n",
       "      <td>Baker County</td>\n",
       "      <td>12.2</td>\n",
       "    </tr>\n",
       "    <tr>\n",
       "      <th>1292</th>\n",
       "      <td>Bay County</td>\n",
       "      <td>15.0</td>\n",
       "    </tr>\n",
       "    <tr>\n",
       "      <th>1296</th>\n",
       "      <td>Bradford County</td>\n",
       "      <td>16.4</td>\n",
       "    </tr>\n",
       "    <tr>\n",
       "      <th>1300</th>\n",
       "      <td>Brevard County</td>\n",
       "      <td>12.0</td>\n",
       "    </tr>\n",
       "  </tbody>\n",
       "</table>\n",
       "</div>"
      ],
      "text/plain": [
       "               County  Food Insecurity Rate\n",
       "1284   Alachua County                  13.4\n",
       "1288     Baker County                  12.2\n",
       "1292       Bay County                  15.0\n",
       "1296  Bradford County                  16.4\n",
       "1300   Brevard County                  12.0"
      ]
     },
     "execution_count": 5,
     "metadata": {},
     "output_type": "execute_result"
    }
   ],
   "source": [
    "## CLEANING DATA\n",
    "# Feed America - Food Insecurity Data\n",
    "\n",
    "# Select relevant columns\n",
    "feedAmerica_df_sub = feedAmerica_df[[\"County, State\", \"State\", \"Year\", \"Overall Food Insecurity Rate\"]] \n",
    "\n",
    "# Drop NAs\n",
    "feedAmerica_df_sub = feedAmerica_df_sub.dropna()\n",
    "\n",
    "# Filter year to 2019\n",
    "feedAmerica_df_sub = feedAmerica_df_sub[(feedAmerica_df_sub['Year'] == 2019) & (feedAmerica_df_sub['State'] == \"FL\" )]\n",
    "\n",
    "# Split feedAmerica data - County, State - by \",\"\n",
    "feedAmerica_df_sub[['County', 'State']] = feedAmerica_df_sub['County, State'].str.split(',', expand=True) \n",
    "feedAmerica_df_sub = feedAmerica_df_sub.drop('County, State', axis = 1)\n",
    "\n",
    "# Strip % from Food Insecurity Rate\n",
    "feedAmerica_df_sub['Food Insecurity Rate'] = feedAmerica_df_sub['Overall Food Insecurity Rate'].str.rstrip('%').astype(float)\n",
    "\n",
    "feedAmerica_df_sub = feedAmerica_df_sub.iloc[:, [3, 4]] # Reorganize columns for ease of visualization\n",
    "\n",
    "feedAmerica_df_sub.head(5)"
   ]
  },
  {
   "cell_type": "code",
   "execution_count": 6,
   "metadata": {
    "execution": {
     "iopub.execute_input": "2025-04-28T01:06:01.821341Z",
     "iopub.status.busy": "2025-04-28T01:06:01.821027Z",
     "iopub.status.idle": "2025-04-28T01:06:01.859511Z",
     "shell.execute_reply": "2025-04-28T01:06:01.858573Z",
     "shell.execute_reply.started": "2025-04-28T01:06:01.821318Z"
    },
    "trusted": true
   },
   "outputs": [
    {
     "data": {
      "text/html": [
       "<div>\n",
       "<style scoped>\n",
       "    .dataframe tbody tr th:only-of-type {\n",
       "        vertical-align: middle;\n",
       "    }\n",
       "\n",
       "    .dataframe tbody tr th {\n",
       "        vertical-align: top;\n",
       "    }\n",
       "\n",
       "    .dataframe thead th {\n",
       "        text-align: right;\n",
       "    }\n",
       "</style>\n",
       "<table border=\"1\" class=\"dataframe\">\n",
       "  <thead>\n",
       "    <tr style=\"text-align: right;\">\n",
       "      <th></th>\n",
       "      <th>County</th>\n",
       "      <th>Has one vehicle (%)</th>\n",
       "      <th>No vehicle available (%)</th>\n",
       "    </tr>\n",
       "  </thead>\n",
       "  <tbody>\n",
       "    <tr>\n",
       "      <th>2</th>\n",
       "      <td>Alachua County</td>\n",
       "      <td>40.588601</td>\n",
       "      <td>7.753533</td>\n",
       "    </tr>\n",
       "    <tr>\n",
       "      <th>3</th>\n",
       "      <td>Bay County</td>\n",
       "      <td>33.417154</td>\n",
       "      <td>3.826866</td>\n",
       "    </tr>\n",
       "    <tr>\n",
       "      <th>4</th>\n",
       "      <td>Brevard County</td>\n",
       "      <td>38.955326</td>\n",
       "      <td>4.207040</td>\n",
       "    </tr>\n",
       "    <tr>\n",
       "      <th>5</th>\n",
       "      <td>Broward County</td>\n",
       "      <td>39.174482</td>\n",
       "      <td>7.732695</td>\n",
       "    </tr>\n",
       "    <tr>\n",
       "      <th>6</th>\n",
       "      <td>Charlotte County</td>\n",
       "      <td>41.239604</td>\n",
       "      <td>6.339030</td>\n",
       "    </tr>\n",
       "  </tbody>\n",
       "</table>\n",
       "</div>"
      ],
      "text/plain": [
       "             County  Has one vehicle (%)  No vehicle available (%)\n",
       "2    Alachua County            40.588601                  7.753533\n",
       "3        Bay County            33.417154                  3.826866\n",
       "4    Brevard County            38.955326                  4.207040\n",
       "5    Broward County            39.174482                  7.732695\n",
       "6  Charlotte County            41.239604                  6.339030"
      ]
     },
     "execution_count": 6,
     "metadata": {},
     "output_type": "execute_result"
    }
   ],
   "source": [
    "## CLEANING DATA\n",
    "# ACS Data - Vehicle Access\n",
    "\n",
    "# Select relevant columns\n",
    "vehicle_df_sub = vehicle_df[[\"NAME\", \"B08201_001E\", \"B08201_002E\", \"B08201_003E\"]] \n",
    "                            # NAME - Geographic Area Name\n",
    "                            # B08201_001E - Population\n",
    "                            # B08201_002E - No vehicle available \n",
    "                            # B08201_003E - Has one vehicle\n",
    "\n",
    "# Drop NAs\n",
    "vehicle_df_sub = vehicle_df_sub.dropna()\n",
    "\n",
    "# Split county data - County, State - by \",\"\n",
    "vehicle_df_sub[['County', 'State']] = vehicle_df_sub['NAME'].str.split(',', expand=True) \n",
    "vehicle_df_sub = vehicle_df_sub.drop(['NAME', 'State'], axis = 1) # Drop NAME and State column as all data is looking at FL data\n",
    "vehicle_df_sub = vehicle_df_sub.iloc[2:] # Omit first two rows since it's just informative (not actual data)\n",
    "\n",
    "# Rename columns\n",
    "vehicle_df_sub = vehicle_df_sub.rename(columns={'B08201_001E': 'County Population', 'B08201_002E': 'No vehicle available', 'B08201_003E': 'Has one vehicle'})\n",
    "\n",
    "# Normalized Data\n",
    "vehicle_df_sub[['County Population', 'Has one vehicle', 'No vehicle available']] = vehicle_df_sub[['County Population', 'Has one vehicle', 'No vehicle available']].astype(int)\n",
    "vehicle_df_sub['Has one vehicle (%)'] = vehicle_df_sub['Has one vehicle'] / vehicle_df_sub['County Population'] * 100\n",
    "vehicle_df_sub['No vehicle available (%)'] = vehicle_df_sub['No vehicle available'] / vehicle_df_sub['County Population'] * 100\n",
    "\n",
    "vehicle_df_sub = vehicle_df_sub.iloc[:, [3, 4, 5]] # Reorganize columns for ease of visualization\n",
    "\n",
    "# Merge Data\n",
    "df_all = pd.merge(feedAmerica_df_sub, vehicle_df_sub, on='County', how='left')\n",
    "\n",
    "vehicle_df_sub.head(5)"
   ]
  },
  {
   "cell_type": "markdown",
   "metadata": {},
   "source": [
    "*Please note that the 'Vehicle' dataset includes columns for ownership of more than one vehicle. For this study, I chose to focus specifically on the clear distinction between having a car and not having a car.*"
   ]
  },
  {
   "cell_type": "code",
   "execution_count": 7,
   "metadata": {
    "execution": {
     "iopub.execute_input": "2025-04-28T01:06:01.870699Z",
     "iopub.status.busy": "2025-04-28T01:06:01.870239Z",
     "iopub.status.idle": "2025-04-28T01:06:01.916614Z",
     "shell.execute_reply": "2025-04-28T01:06:01.915278Z",
     "shell.execute_reply.started": "2025-04-28T01:06:01.870659Z"
    },
    "trusted": true
   },
   "outputs": [
    {
     "data": {
      "text/html": [
       "<div>\n",
       "<style scoped>\n",
       "    .dataframe tbody tr th:only-of-type {\n",
       "        vertical-align: middle;\n",
       "    }\n",
       "\n",
       "    .dataframe tbody tr th {\n",
       "        vertical-align: top;\n",
       "    }\n",
       "\n",
       "    .dataframe thead th {\n",
       "        text-align: right;\n",
       "    }\n",
       "</style>\n",
       "<table border=\"1\" class=\"dataframe\">\n",
       "  <thead>\n",
       "    <tr style=\"text-align: right;\">\n",
       "      <th></th>\n",
       "      <th>County</th>\n",
       "      <th>Complete kitchen facility (%)</th>\n",
       "      <th>Lacking kitchen available (%)</th>\n",
       "    </tr>\n",
       "  </thead>\n",
       "  <tbody>\n",
       "    <tr>\n",
       "      <th>2</th>\n",
       "      <td>Alachua County</td>\n",
       "      <td>97.950527</td>\n",
       "      <td>2.049473</td>\n",
       "    </tr>\n",
       "    <tr>\n",
       "      <th>3</th>\n",
       "      <td>Bay County</td>\n",
       "      <td>94.899011</td>\n",
       "      <td>5.100989</td>\n",
       "    </tr>\n",
       "    <tr>\n",
       "      <th>4</th>\n",
       "      <td>Brevard County</td>\n",
       "      <td>98.814129</td>\n",
       "      <td>1.185871</td>\n",
       "    </tr>\n",
       "    <tr>\n",
       "      <th>5</th>\n",
       "      <td>Broward County</td>\n",
       "      <td>99.113896</td>\n",
       "      <td>0.886104</td>\n",
       "    </tr>\n",
       "    <tr>\n",
       "      <th>6</th>\n",
       "      <td>Charlotte County</td>\n",
       "      <td>99.226130</td>\n",
       "      <td>0.773870</td>\n",
       "    </tr>\n",
       "  </tbody>\n",
       "</table>\n",
       "</div>"
      ],
      "text/plain": [
       "             County  Complete kitchen facility (%)  \\\n",
       "2    Alachua County                      97.950527   \n",
       "3        Bay County                      94.899011   \n",
       "4    Brevard County                      98.814129   \n",
       "5    Broward County                      99.113896   \n",
       "6  Charlotte County                      99.226130   \n",
       "\n",
       "   Lacking kitchen available (%)  \n",
       "2                       2.049473  \n",
       "3                       5.100989  \n",
       "4                       1.185871  \n",
       "5                       0.886104  \n",
       "6                       0.773870  "
      ]
     },
     "execution_count": 7,
     "metadata": {},
     "output_type": "execute_result"
    }
   ],
   "source": [
    "## CLEANING DATA\n",
    "# ACS Data - Kitchen\n",
    "\n",
    "# Select relevant columns\n",
    "kitchen_df_sub = kitchen_df[[\"NAME\", \"B25051_001E\", \"B25051_003E\", \"B25051_002E\"]] \n",
    "                            # NAME - Geographic Area Name\n",
    "                            # B25051_001E\t- population\n",
    "                            # B25051_003E - Lacking kitchen available\n",
    "                            # B25051_002E\t- Complete kitchen facility\n",
    "\n",
    "# Drop NAs\n",
    "kitchen_df_sub = kitchen_df_sub.dropna()\n",
    "\n",
    "# Split county data - County, State - by \",\"\n",
    "kitchen_df_sub[['County', 'State']] = kitchen_df_sub['NAME'].str.split(',', expand=True) \n",
    "kitchen_df_sub = kitchen_df_sub.drop(['NAME', 'State'], axis = 1) # Drop NAME and State column as all data is looking at FL data\n",
    "kitchen_df_sub = kitchen_df_sub.iloc[2:] # Omit first two rows since it's just informative (not actual data)\n",
    "\n",
    "# Rename columns\n",
    "kitchen_df_sub = kitchen_df_sub.rename(columns={'B25051_001E': 'County Population', 'B25051_003E': 'Lacking kitchen available', 'B25051_002E': 'Complete kitchen facility'})\n",
    "\n",
    "# Normalized Data\n",
    "kitchen_df_sub[['County Population', 'Complete kitchen facility', 'Lacking kitchen available']] = kitchen_df_sub[['County Population', 'Complete kitchen facility', 'Lacking kitchen available']].astype(int)\n",
    "kitchen_df_sub['Complete kitchen facility (%)'] = kitchen_df_sub['Complete kitchen facility'] / kitchen_df_sub['County Population'] * 100\n",
    "kitchen_df_sub['Lacking kitchen available (%)'] = kitchen_df_sub['Lacking kitchen available'] / kitchen_df_sub['County Population'] * 100\n",
    "\n",
    "kitchen_df_sub = kitchen_df_sub.iloc[:, [3, 4, 5]] # Reorganize columns for ease of visualization\n",
    "\n",
    "# Merge Data\n",
    "df_all = pd.merge(df_all, kitchen_df_sub, on='County', how='left')\n",
    "\n",
    "kitchen_df_sub.head(5)"
   ]
  },
  {
   "cell_type": "code",
   "execution_count": 8,
   "metadata": {
    "execution": {
     "iopub.execute_input": "2025-04-28T01:06:01.918672Z",
     "iopub.status.busy": "2025-04-28T01:06:01.918228Z",
     "iopub.status.idle": "2025-04-28T01:06:01.952391Z",
     "shell.execute_reply": "2025-04-28T01:06:01.951025Z",
     "shell.execute_reply.started": "2025-04-28T01:06:01.918613Z"
    },
    "trusted": true
   },
   "outputs": [
    {
     "data": {
      "text/html": [
       "<div>\n",
       "<style scoped>\n",
       "    .dataframe tbody tr th:only-of-type {\n",
       "        vertical-align: middle;\n",
       "    }\n",
       "\n",
       "    .dataframe tbody tr th {\n",
       "        vertical-align: top;\n",
       "    }\n",
       "\n",
       "    .dataframe thead th {\n",
       "        text-align: right;\n",
       "    }\n",
       "</style>\n",
       "<table border=\"1\" class=\"dataframe\">\n",
       "  <thead>\n",
       "    <tr style=\"text-align: right;\">\n",
       "      <th></th>\n",
       "      <th>County</th>\n",
       "      <th>With internet subscription (%)</th>\n",
       "      <th>No internet subscription (%)</th>\n",
       "    </tr>\n",
       "  </thead>\n",
       "  <tbody>\n",
       "    <tr>\n",
       "      <th>2</th>\n",
       "      <td>Alachua County</td>\n",
       "      <td>88.369700</td>\n",
       "      <td>8.190325</td>\n",
       "    </tr>\n",
       "    <tr>\n",
       "      <th>3</th>\n",
       "      <td>Bay County</td>\n",
       "      <td>88.828673</td>\n",
       "      <td>9.413975</td>\n",
       "    </tr>\n",
       "    <tr>\n",
       "      <th>4</th>\n",
       "      <td>Brevard County</td>\n",
       "      <td>90.050990</td>\n",
       "      <td>8.063275</td>\n",
       "    </tr>\n",
       "    <tr>\n",
       "      <th>5</th>\n",
       "      <td>Broward County</td>\n",
       "      <td>88.192444</td>\n",
       "      <td>9.058900</td>\n",
       "    </tr>\n",
       "    <tr>\n",
       "      <th>6</th>\n",
       "      <td>Charlotte County</td>\n",
       "      <td>88.046586</td>\n",
       "      <td>10.159422</td>\n",
       "    </tr>\n",
       "  </tbody>\n",
       "</table>\n",
       "</div>"
      ],
      "text/plain": [
       "             County  With internet subscription (%)  \\\n",
       "2    Alachua County                       88.369700   \n",
       "3        Bay County                       88.828673   \n",
       "4    Brevard County                       90.050990   \n",
       "5    Broward County                       88.192444   \n",
       "6  Charlotte County                       88.046586   \n",
       "\n",
       "   No internet subscription (%)  \n",
       "2                      8.190325  \n",
       "3                      9.413975  \n",
       "4                      8.063275  \n",
       "5                      9.058900  \n",
       "6                     10.159422  "
      ]
     },
     "execution_count": 8,
     "metadata": {},
     "output_type": "execute_result"
    }
   ],
   "source": [
    "## CLEANING DATA\n",
    "# ACS Data - Kitchen\n",
    "\n",
    "# Select relevant columns\n",
    "internet_df_sub = internet_df[[\"NAME\", \"B28002_001E\", \"B28002_013E\", \"B28002_002E\"]]\n",
    "                            # NAME - Geographic Area Name\n",
    "                            # B28002_001E - population\n",
    "                            # B28002_013E - No internet subscription\n",
    "                            # B28002_002E - with internet subscription\n",
    "# Drop NAs\n",
    "internet_df_sub = internet_df_sub.dropna()\n",
    "\n",
    "# Split county data - County, State - by \",\"\n",
    "internet_df_sub[['County', 'State']] = internet_df_sub['NAME'].str.split(',', expand=True) \n",
    "internet_df_sub = internet_df_sub.drop(['NAME', 'State'], axis = 1) # Drop NAME and State column as all data is looking at FL data\n",
    "internet_df_sub = internet_df_sub.iloc[2:] # Omit first two rows since it's just informative (not actual data)\n",
    "\n",
    "# Rename columns\n",
    "internet_df_sub = internet_df_sub.rename(columns={'B28002_001E': 'County Population', 'B28002_013E': 'No internet subscription', 'B28002_002E': 'With internet subscription'})\n",
    "\n",
    "# Normalized Data\n",
    "internet_df_sub[['County Population', 'With internet subscription', 'No internet subscription']] = internet_df_sub[['County Population', 'With internet subscription', 'No internet subscription']].astype(int)\n",
    "internet_df_sub['With internet subscription (%)'] = internet_df_sub['With internet subscription'] / internet_df_sub['County Population'] * 100\n",
    "internet_df_sub['No internet subscription (%)'] = internet_df_sub['No internet subscription'] / internet_df_sub['County Population'] * 100\n",
    "\n",
    "internet_df_sub = internet_df_sub.iloc[:, [3, 4, 5]] # Reorganize columns for ease of visualization\n",
    "\n",
    "# Merge Data\n",
    "df_all = pd.merge(df_all, internet_df_sub, on='County', how='left')\n",
    "\n",
    "internet_df_sub.head(5)"
   ]
  },
  {
   "cell_type": "code",
   "execution_count": 9,
   "metadata": {
    "execution": {
     "iopub.execute_input": "2025-04-28T01:06:01.953837Z",
     "iopub.status.busy": "2025-04-28T01:06:01.953493Z",
     "iopub.status.idle": "2025-04-28T01:06:01.991526Z",
     "shell.execute_reply": "2025-04-28T01:06:01.990195Z",
     "shell.execute_reply.started": "2025-04-28T01:06:01.953807Z"
    },
    "trusted": true
   },
   "outputs": [
    {
     "data": {
      "text/html": [
       "<div>\n",
       "<style scoped>\n",
       "    .dataframe tbody tr th:only-of-type {\n",
       "        vertical-align: middle;\n",
       "    }\n",
       "\n",
       "    .dataframe tbody tr th {\n",
       "        vertical-align: top;\n",
       "    }\n",
       "\n",
       "    .dataframe thead th {\n",
       "        text-align: right;\n",
       "    }\n",
       "</style>\n",
       "<table border=\"1\" class=\"dataframe\">\n",
       "  <thead>\n",
       "    <tr style=\"text-align: right;\">\n",
       "      <th></th>\n",
       "      <th>County</th>\n",
       "      <th>Food Insecurity Rate</th>\n",
       "      <th>Has one vehicle (%)</th>\n",
       "      <th>No vehicle available (%)</th>\n",
       "      <th>Complete kitchen facility (%)</th>\n",
       "      <th>Lacking kitchen available (%)</th>\n",
       "      <th>With internet subscription (%)</th>\n",
       "      <th>No internet subscription (%)</th>\n",
       "    </tr>\n",
       "  </thead>\n",
       "  <tbody>\n",
       "    <tr>\n",
       "      <th>0</th>\n",
       "      <td>Alachua County</td>\n",
       "      <td>13.4</td>\n",
       "      <td>40.588601</td>\n",
       "      <td>7.753533</td>\n",
       "      <td>97.950527</td>\n",
       "      <td>2.049473</td>\n",
       "      <td>88.369700</td>\n",
       "      <td>8.190325</td>\n",
       "    </tr>\n",
       "    <tr>\n",
       "      <th>1</th>\n",
       "      <td>Bay County</td>\n",
       "      <td>15.0</td>\n",
       "      <td>33.417154</td>\n",
       "      <td>3.826866</td>\n",
       "      <td>94.899011</td>\n",
       "      <td>5.100989</td>\n",
       "      <td>88.828673</td>\n",
       "      <td>9.413975</td>\n",
       "    </tr>\n",
       "    <tr>\n",
       "      <th>2</th>\n",
       "      <td>Brevard County</td>\n",
       "      <td>12.0</td>\n",
       "      <td>38.955326</td>\n",
       "      <td>4.207040</td>\n",
       "      <td>98.814129</td>\n",
       "      <td>1.185871</td>\n",
       "      <td>90.050990</td>\n",
       "      <td>8.063275</td>\n",
       "    </tr>\n",
       "    <tr>\n",
       "      <th>3</th>\n",
       "      <td>Broward County</td>\n",
       "      <td>9.9</td>\n",
       "      <td>39.174482</td>\n",
       "      <td>7.732695</td>\n",
       "      <td>99.113896</td>\n",
       "      <td>0.886104</td>\n",
       "      <td>88.192444</td>\n",
       "      <td>9.058900</td>\n",
       "    </tr>\n",
       "    <tr>\n",
       "      <th>4</th>\n",
       "      <td>Charlotte County</td>\n",
       "      <td>13.5</td>\n",
       "      <td>41.239604</td>\n",
       "      <td>6.339030</td>\n",
       "      <td>99.226130</td>\n",
       "      <td>0.773870</td>\n",
       "      <td>88.046586</td>\n",
       "      <td>10.159422</td>\n",
       "    </tr>\n",
       "  </tbody>\n",
       "</table>\n",
       "</div>"
      ],
      "text/plain": [
       "             County  Food Insecurity Rate  Has one vehicle (%)  \\\n",
       "0    Alachua County                  13.4            40.588601   \n",
       "1        Bay County                  15.0            33.417154   \n",
       "2    Brevard County                  12.0            38.955326   \n",
       "3    Broward County                   9.9            39.174482   \n",
       "4  Charlotte County                  13.5            41.239604   \n",
       "\n",
       "   No vehicle available (%)  Complete kitchen facility (%)  \\\n",
       "0                  7.753533                      97.950527   \n",
       "1                  3.826866                      94.899011   \n",
       "2                  4.207040                      98.814129   \n",
       "3                  7.732695                      99.113896   \n",
       "4                  6.339030                      99.226130   \n",
       "\n",
       "   Lacking kitchen available (%)  With internet subscription (%)  \\\n",
       "0                       2.049473                       88.369700   \n",
       "1                       5.100989                       88.828673   \n",
       "2                       1.185871                       90.050990   \n",
       "3                       0.886104                       88.192444   \n",
       "4                       0.773870                       88.046586   \n",
       "\n",
       "   No internet subscription (%)  \n",
       "0                      8.190325  \n",
       "1                      9.413975  \n",
       "2                      8.063275  \n",
       "3                      9.058900  \n",
       "4                     10.159422  "
      ]
     },
     "execution_count": 9,
     "metadata": {},
     "output_type": "execute_result"
    }
   ],
   "source": [
    "# MERGE DATAFRAMES --> FINAL OUTPUT\n",
    "\n",
    "df_clean = df_all.dropna().reset_index(drop=True) # Drop all NaN and reindex dataset\n",
    "df_clean.head(5)\n",
    "\n",
    "# df_clean[['County', 'Food Insecurity Rate', 'No internet subscription (%)']].head(20)"
   ]
  },
  {
   "cell_type": "markdown",
   "metadata": {},
   "source": [
    "### Phase 3: Exploring the Data"
   ]
  },
  {
   "cell_type": "code",
   "execution_count": 10,
   "metadata": {
    "execution": {
     "iopub.execute_input": "2025-04-28T01:06:01.993601Z",
     "iopub.status.busy": "2025-04-28T01:06:01.993177Z",
     "iopub.status.idle": "2025-04-28T01:06:02.153118Z",
     "shell.execute_reply": "2025-04-28T01:06:02.152038Z",
     "shell.execute_reply.started": "2025-04-28T01:06:01.993569Z"
    },
    "trusted": true
   },
   "outputs": [
    {
     "data": {
      "text/html": [
       "<div>\n",
       "<style scoped>\n",
       "    .dataframe tbody tr th:only-of-type {\n",
       "        vertical-align: middle;\n",
       "    }\n",
       "\n",
       "    .dataframe tbody tr th {\n",
       "        vertical-align: top;\n",
       "    }\n",
       "\n",
       "    .dataframe thead th {\n",
       "        text-align: right;\n",
       "    }\n",
       "</style>\n",
       "<table border=\"1\" class=\"dataframe\">\n",
       "  <thead>\n",
       "    <tr style=\"text-align: right;\">\n",
       "      <th></th>\n",
       "      <th>Food Insecurity Rate</th>\n",
       "      <th>Has one vehicle (%)</th>\n",
       "      <th>No vehicle available (%)</th>\n",
       "      <th>Complete kitchen facility (%)</th>\n",
       "      <th>Lacking kitchen available (%)</th>\n",
       "      <th>With internet subscription (%)</th>\n",
       "      <th>No internet subscription (%)</th>\n",
       "    </tr>\n",
       "  </thead>\n",
       "  <tbody>\n",
       "    <tr>\n",
       "      <th>count</th>\n",
       "      <td>41.000000</td>\n",
       "      <td>41.000000</td>\n",
       "      <td>41.000000</td>\n",
       "      <td>41.000000</td>\n",
       "      <td>41.000000</td>\n",
       "      <td>41.000000</td>\n",
       "      <td>41.000000</td>\n",
       "    </tr>\n",
       "    <tr>\n",
       "      <th>mean</th>\n",
       "      <td>12.260976</td>\n",
       "      <td>38.430012</td>\n",
       "      <td>5.254804</td>\n",
       "      <td>98.375947</td>\n",
       "      <td>1.624053</td>\n",
       "      <td>87.376331</td>\n",
       "      <td>9.826955</td>\n",
       "    </tr>\n",
       "    <tr>\n",
       "      <th>std</th>\n",
       "      <td>1.613982</td>\n",
       "      <td>5.748259</td>\n",
       "      <td>1.820934</td>\n",
       "      <td>1.236979</td>\n",
       "      <td>1.236979</td>\n",
       "      <td>3.624489</td>\n",
       "      <td>3.060778</td>\n",
       "    </tr>\n",
       "    <tr>\n",
       "      <th>min</th>\n",
       "      <td>9.400000</td>\n",
       "      <td>24.870371</td>\n",
       "      <td>1.943145</td>\n",
       "      <td>93.177395</td>\n",
       "      <td>0.193963</td>\n",
       "      <td>76.358402</td>\n",
       "      <td>4.605966</td>\n",
       "    </tr>\n",
       "    <tr>\n",
       "      <th>25%</th>\n",
       "      <td>11.200000</td>\n",
       "      <td>36.230672</td>\n",
       "      <td>4.207040</td>\n",
       "      <td>97.950527</td>\n",
       "      <td>0.929434</td>\n",
       "      <td>85.495623</td>\n",
       "      <td>7.868999</td>\n",
       "    </tr>\n",
       "    <tr>\n",
       "      <th>50%</th>\n",
       "      <td>11.900000</td>\n",
       "      <td>39.174482</td>\n",
       "      <td>5.008689</td>\n",
       "      <td>98.686845</td>\n",
       "      <td>1.313155</td>\n",
       "      <td>88.152202</td>\n",
       "      <td>9.065740</td>\n",
       "    </tr>\n",
       "    <tr>\n",
       "      <th>75%</th>\n",
       "      <td>13.200000</td>\n",
       "      <td>40.869023</td>\n",
       "      <td>6.051967</td>\n",
       "      <td>99.070566</td>\n",
       "      <td>2.049473</td>\n",
       "      <td>89.495106</td>\n",
       "      <td>10.791646</td>\n",
       "    </tr>\n",
       "    <tr>\n",
       "      <th>max</th>\n",
       "      <td>16.700000</td>\n",
       "      <td>60.333345</td>\n",
       "      <td>10.691556</td>\n",
       "      <td>99.806037</td>\n",
       "      <td>6.822605</td>\n",
       "      <td>93.893895</td>\n",
       "      <td>19.468986</td>\n",
       "    </tr>\n",
       "  </tbody>\n",
       "</table>\n",
       "</div>"
      ],
      "text/plain": [
       "       Food Insecurity Rate  Has one vehicle (%)  No vehicle available (%)  \\\n",
       "count             41.000000            41.000000                 41.000000   \n",
       "mean              12.260976            38.430012                  5.254804   \n",
       "std                1.613982             5.748259                  1.820934   \n",
       "min                9.400000            24.870371                  1.943145   \n",
       "25%               11.200000            36.230672                  4.207040   \n",
       "50%               11.900000            39.174482                  5.008689   \n",
       "75%               13.200000            40.869023                  6.051967   \n",
       "max               16.700000            60.333345                 10.691556   \n",
       "\n",
       "       Complete kitchen facility (%)  Lacking kitchen available (%)  \\\n",
       "count                      41.000000                      41.000000   \n",
       "mean                       98.375947                       1.624053   \n",
       "std                         1.236979                       1.236979   \n",
       "min                        93.177395                       0.193963   \n",
       "25%                        97.950527                       0.929434   \n",
       "50%                        98.686845                       1.313155   \n",
       "75%                        99.070566                       2.049473   \n",
       "max                        99.806037                       6.822605   \n",
       "\n",
       "       With internet subscription (%)  No internet subscription (%)  \n",
       "count                       41.000000                     41.000000  \n",
       "mean                        87.376331                      9.826955  \n",
       "std                          3.624489                      3.060778  \n",
       "min                         76.358402                      4.605966  \n",
       "25%                         85.495623                      7.868999  \n",
       "50%                         88.152202                      9.065740  \n",
       "75%                         89.495106                     10.791646  \n",
       "max                         93.893895                     19.468986  "
      ]
     },
     "execution_count": 10,
     "metadata": {},
     "output_type": "execute_result"
    }
   ],
   "source": [
    "# Exploring Data\n",
    "import pandas as pd\n",
    "import matplotlib.pyplot as plt\n",
    "import seaborn as sns\n",
    "from sklearn.model_selection import train_test_split\n",
    "from sklearn.linear_model import LinearRegression\n",
    "from sklearn.metrics import mean_squared_error, r2_score\n",
    "\n",
    "# Understand the data distribution\n",
    "df_clean.describe()"
   ]
  },
  {
   "cell_type": "code",
   "execution_count": 11,
   "metadata": {
    "execution": {
     "iopub.execute_input": "2025-04-28T01:06:02.154958Z",
     "iopub.status.busy": "2025-04-28T01:06:02.154486Z",
     "iopub.status.idle": "2025-04-28T01:06:02.633344Z",
     "shell.execute_reply": "2025-04-28T01:06:02.631996Z",
     "shell.execute_reply.started": "2025-04-28T01:06:02.154918Z"
    },
    "trusted": true
   },
   "outputs": [
    {
     "data": {
      "image/png": "[encoded data removed]",
      "text/plain": [
       "<Figure size 720x432 with 1 Axes>"
      ]
     },
     "metadata": {
      "needs_background": "light"
     },
     "output_type": "display_data"
    }
   ],
   "source": [
    "# Exploring the distribution of Food Insecurity Rate across Florida counties\n",
    "\n",
    "# Set the plot style\n",
    "sns.set(style=\"whitegrid\")\n",
    "\n",
    "# Plot histogram\n",
    "plt.figure(figsize=(10, 6))\n",
    "sns.histplot(df_clean['Food Insecurity Rate'], bins=10, kde=True, color='skyblue')\n",
    "\n",
    "# Add labels and title\n",
    "plt.title('Distribution of Food Insecurity Rates Across Florida Counties', fontsize=14)\n",
    "plt.xlabel('Food Insecurity Rate (%)')\n",
    "plt.ylabel('Number of Counties')\n",
    "\n",
    "# Show the plot\n",
    "plt.show()"
   ]
  },
  {
   "cell_type": "markdown",
   "metadata": {},
   "source": [
    "### Wait pause... what does this mean?\n",
    "\n",
    "Well, most counties fall within the 11% to 13.5% food insecurity range. \n",
    "\n",
    "Recall the df_clean.describe() function above. \n",
    "\n",
    "We know from the analysis that the food insecurity rate is:  \n",
    "\n",
    "**Mean: 12.55%**  \n",
    "**Standard Deviation: 1.45%**  \n",
    "**Threshold: 14.00%**  \n",
    "\n",
    "Given this information, we will create a benchmark that anything > 1 standard deviation above the mean is unusually high or high risk. We'll keep this in mind for later.\n"
   ]
  },
  {
   "cell_type": "code",
   "execution_count": 12,
   "metadata": {
    "execution": {
     "iopub.execute_input": "2025-04-28T01:06:02.635485Z",
     "iopub.status.busy": "2025-04-28T01:06:02.635152Z",
     "iopub.status.idle": "2025-04-28T01:06:03.189340Z",
     "shell.execute_reply": "2025-04-28T01:06:03.188026Z",
     "shell.execute_reply.started": "2025-04-28T01:06:02.635462Z"
    },
    "trusted": true
   },
   "outputs": [
    {
     "data": {
      "image/png": "[encoded data removed]",
      "text/plain": [
       "<Figure size 432x288 with 1 Axes>"
      ]
     },
     "metadata": {
      "needs_background": "light"
     },
     "output_type": "display_data"
    }
   ],
   "source": [
    "# Histogram analysis of food insecurities distribution across florida counties \n",
    "\n",
    "# Plotting overlapping histograms with KDE\n",
    "sns.histplot(df_clean['No internet subscription (%)'], color='turquoise', alpha=0.5, kde=True, label='No internet subscription (%)')\n",
    "sns.histplot(df_clean['No vehicle available (%)'], color='plum', alpha=0.5, kde=True, label='No vehicle available (%)')\n",
    "sns.histplot(df_clean['Lacking kitchen available (%)'], color='lightsalmon', alpha=0.5, kde=True, label='Lacking kitchen available (%)')\n",
    "\n",
    "# Adding labels and legend\n",
    "plt.title('Distribution of Variable Access Rates Across Florida Counties')\n",
    "plt.xlabel('Accessibility Rate')\n",
    "plt.ylabel('Number of Counties')\n",
    "plt.legend()\n",
    "\n",
    "plt.show()\n"
   ]
  },
  {
   "cell_type": "markdown",
   "metadata": {},
   "source": [
    "#### **Key Observations**\n",
    "##### Distribution of Variable Access Rates Across Florida Counties Histogram \n",
    "The histogram provides a visual overview of Internet, Vehicle, and Kitchen accessibility across Florida counties.\n",
    "The goal is to visually assess whether the variables shows patterns that suggest it could be a meaningful predictor of food insecurity.\n",
    "- **No Internet Subscription**: The distribution is heavily skewed to the left, with the widest spread of data. This impacts a high number of counties, indicating that internet access is an issue in many counties. The data peaks around 7–10%, but stretches to 20% in some counties.\n",
    "- **No Vehicle**: The distribution is slightly skewed to the left, with the data more varied. This could suggest that this variable might be statistically significant when predicting food insecurity. Around 2.5% to 7.5% of the population lack access to vehicle access.\n",
    "- **No Kitchen**: The distribution is slightly skewed to the left, with around 0% to 2.5% of the population lacking kitchen access. This suggests that most counties have kitchens and may not impact food insecurity! Great news.\n"
   ]
  },
  {
   "cell_type": "code",
   "execution_count": 13,
   "metadata": {
    "execution": {
     "iopub.execute_input": "2025-04-28T01:06:03.191672Z",
     "iopub.status.busy": "2025-04-28T01:06:03.191195Z",
     "iopub.status.idle": "2025-04-28T01:06:04.100586Z",
     "shell.execute_reply": "2025-04-28T01:06:04.099417Z",
     "shell.execute_reply.started": "2025-04-28T01:06:03.191605Z"
    },
    "trusted": true
   },
   "outputs": [
    {
     "data": {
      "image/png": "[encoded data removed]",
      "text/plain": [
       "<Figure size 720x216 with 1 Axes>"
      ]
     },
     "metadata": {
      "needs_background": "light"
     },
     "output_type": "display_data"
    },
    {
     "data": {
      "image/png": "[encoded data removed]",
      "text/plain": [
       "<Figure size 720x216 with 1 Axes>"
      ]
     },
     "metadata": {
      "needs_background": "light"
     },
     "output_type": "display_data"
    },
    {
     "data": {
      "image/png": "[encoded data removed]",
      "text/plain": [
       "<Figure size 720x216 with 1 Axes>"
      ]
     },
     "metadata": {
      "needs_background": "light"
     },
     "output_type": "display_data"
    }
   ],
   "source": [
    "# Vehicle, Internet, and Kitchen access relation to Food Insecurity\n",
    "\n",
    "# Scatter plot for Food Insecurity Rate vs Has one vehicle (%) and No vehicle available (%)\n",
    "plt.figure(figsize=(10,3))\n",
    "plt.scatter(df_clean['With internet subscription (%)'], df_clean['Food Insecurity Rate'], color='skyblue', label='Internet Subscription (%)')\n",
    "plt.scatter(df_clean['No internet subscription (%)'], df_clean['Food Insecurity Rate'],  color='plum', label='No Internet (%)')\n",
    "plt.xlabel('Internet Availability')\n",
    "plt.ylabel('Food Insecurity Rate')\n",
    "plt.title('Internet Availability vs Food Insecurity Rate')\n",
    "plt.legend()\n",
    "\n",
    "plt.figure(figsize=(10,3))\n",
    "plt.scatter(df_clean['Has one vehicle (%)'], df_clean['Food Insecurity Rate'], color='skyblue', label='Has one vehicle (%)')\n",
    "plt.scatter(df_clean['No vehicle available (%)'],df_clean['Food Insecurity Rate'], color='plum', label='No vehicle available (%)')\n",
    "plt.xlabel('Vehicle Availability')\n",
    "plt.ylabel('Food Insecurity Rate')\n",
    "plt.title('Vehicle Availability vs Food Insecurity Rate')\n",
    "plt.legend()\n",
    "plt.show()\n",
    "\n",
    "plt.figure(figsize=(10,3))\n",
    "plt.scatter(df_clean['Complete kitchen facility (%)'], df_clean['Food Insecurity Rate'], color='skyblue', label='Complete Kitchen (%)')\n",
    "plt.scatter(df_clean['Lacking kitchen available (%)'], df_clean['Food Insecurity Rate'], color='plum', label='No Kitchen (%)')\n",
    "plt.xlabel('Kitchen Availability')\n",
    "plt.ylabel('Food Insecurity Rate')\n",
    "plt.title('Kitchen Availability vs Food Insecurity Rate')\n",
    "plt.legend()\n",
    "plt.show()\n",
    "\n",
    "plt.show()"
   ]
  },
  {
   "cell_type": "markdown",
   "metadata": {},
   "source": [
    "#### **Key Observations:**\n",
    "##### Scatter Plot and Regression Analysis  \n",
    "The scatter plot provides a visual assessment of the relationship between the accessability of resources in FL counties to food insecurity.  \n",
    "The goal is to visually assess whether the variables shows a correlation.\n",
    "\n",
    "#### Internet Availability:\n",
    "- **Observation**: More than 80% of people have internet access, while less than 20% do not. There is a large cluster between 11-14% for both subscription and non-subscription rates.\n",
    "- **Correlation**: There is a very weak positive correlation between the lack of internet access and food insecurity rate. Higher food insecurity rates show a slight trend towards having a higher percentage of the population without internet access, but this trend is not strong.\n",
    "- **What does this mean?**: While a large majority of the population has internet access regardless of food insecurity levels, communities with somewhat higher food insecurity rates may also have a slightly larger proportion of individuals without internet access. However, the lack of internet access doesn't appear to be a primary determinant of food insecurity based on this visualization.\n",
    "\n",
    "#### Vehicle Availability:\n",
    "- **Observation**: Data points for vehicle availability are more dispersed above 30%, while no vehicle availability has a tighter cluster below 10%. There is a focus of clusters between 11-12%, with dispersion increasing from 12-14% for both sets of data.\n",
    "- **Correlation**: here is a weak positive correlation between the lack of vehicle access and food insecurity rate. Higher food insecurity rates show a slight tendency towards having a higher percentage of households with no vehicle available, but this relationship isn't very strong.\n",
    "- **What does this mean?**: Higher food insecurity rates are associated with lower vehicle availability and higher percentages of populations without vehicle access.\n",
    "\n",
    "#### Kitchen Availability:\n",
    "- **Observation**: The data for kitchen availability is almost linear, indicating that most people have kitchen facilities. The relationship between kitchen availability and food insecurity rate appears proportional.\n",
    "- **Correlation**: The correlation between the lack of kitchen facilities and food insecurity rate is weakly positive. While the percentage of households without a kitchen is very low overall, communities with slightly higher food insecurity rates might have a marginally higher (though still very small) percentage of households lacking complete kitchen facilities.\n",
    "- **What does this mean?**: The presence of a complete kitchen is likely not a significant differentiator or strong predictor of food security in this dataset. While a lack of kitchen might be slightly more prevalent in food-insecure communities, its overall rarity suggests it's not a primary factor driving food insecurity rates."
   ]
  },
  {
   "cell_type": "code",
   "execution_count": 14,
   "metadata": {
    "execution": {
     "iopub.execute_input": "2025-04-28T01:06:04.104876Z",
     "iopub.status.busy": "2025-04-28T01:06:04.104487Z",
     "iopub.status.idle": "2025-04-28T01:06:06.558691Z",
     "shell.execute_reply": "2025-04-28T01:06:06.557152Z",
     "shell.execute_reply.started": "2025-04-28T01:06:04.104848Z"
    },
    "trusted": true
   },
   "outputs": [
    {
     "name": "stdout",
     "output_type": "stream",
     "text": [
      "                             OLS Regression Results                             \n",
      "================================================================================\n",
      "Dep. Variable:     Food Insecurity Rate   R-squared:                       0.391\n",
      "Model:                              OLS   Adj. R-squared:                  0.304\n",
      "Method:                   Least Squares   F-statistic:                     4.489\n",
      "Date:                  Mon, 28 Apr 2025   Prob (F-statistic):            0.00290\n",
      "Time:                          11:47:46   Log-Likelihood:                -67.141\n",
      "No. Observations:                    41   AIC:                             146.3\n",
      "Df Residuals:                        35   BIC:                             156.6\n",
      "Df Model:                             5                                         \n",
      "Covariance Type:              nonrobust                                         \n",
      "==================================================================================================\n",
      "                                     coef    std err          t      P>|t|      [0.025      0.975]\n",
      "--------------------------------------------------------------------------------------------------\n",
      "const                              0.0029      0.003      1.062      0.296      -0.003       0.009\n",
      "Has one vehicle (%)                0.0063      0.039      0.163      0.872      -0.073       0.085\n",
      "No vehicle available (%)          -0.1577      0.129     -1.218      0.231      -0.421       0.105\n",
      "Complete kitchen facility (%)     -0.0091      0.102     -0.090      0.929      -0.216       0.197\n",
      "Lacking kitchen available (%)      0.3037      0.210      1.449      0.156      -0.122       0.729\n",
      "With internet subscription (%)     0.1077      0.104      1.034      0.308      -0.104       0.319\n",
      "No internet subscription (%)       0.3908      0.131      2.975      0.005       0.124       0.657\n",
      "==============================================================================\n",
      "Omnibus:                        2.368   Durbin-Watson:                   1.813\n",
      "Prob(Omnibus):                  0.306   Jarque-Bera (JB):                2.007\n",
      "Skew:                           0.536   Prob(JB):                        0.367\n",
      "Kurtosis:                       2.840   Cond. No.                     9.02e+17\n",
      "==============================================================================\n",
      "\n",
      "Notes:\n",
      "[1] Standard Errors assume that the covariance matrix of the errors is correctly specified.\n",
      "[2] The smallest eigenvalue is 9.54e-31. This might indicate that there are\n",
      "strong multicollinearity problems or that the design matrix is singular.\n"
     ]
    }
   ],
   "source": [
    "# Regression Model: Correlation between variables and insecurity rate\n",
    "import statsmodels.api as sm\n",
    "\n",
    "X = df_clean[['Has one vehicle (%)', 'No vehicle available (%)', \"Complete kitchen facility (%)\", \"Lacking kitchen available (%)\", \"With internet subscription (%)\", \"No internet subscription (%)\"]]\n",
    "y = df_clean['Food Insecurity Rate']\n",
    "\n",
    "# Add a constant to the model\n",
    "X = sm.add_constant(X)\n",
    "\n",
    "# Fit the regression model\n",
    "reg_model = sm.OLS(y, X).fit()\n",
    "\n",
    "print(reg_model.summary())"
   ]
  },
  {
   "cell_type": "markdown",
   "metadata": {},
   "source": [
    "#### **Regression Analysis - Do these resources variable have any relationship with Food Insecurity?**\n",
    "\n",
    "#### **Key Observations:**\n",
    "\n",
    "The R-squared (0.391) indicate that ~39.1% of the variance in the \"Food Insecurity Rate\" can be explained by the independent variables included in our model. However it should be noted that the Adj. R-squared (0.304) delineates that not all of the variables might not be contributing significantly to the explanation of the variance.\n",
    "\n",
    "Given that we have a low p-value .00290 (below alpha, 0.05), we can conclude that at least one of the independent variables in the model has a statistically significant relationship with the Food Insecurity Rate.\n",
    "\n",
    "Looking further into the p-value for individual variables, we can answer the following questions.\n",
    "\n",
    "- **No vehicle available (%):** p-value = 0.231 --> not statistically significant at the 0.05 level\n",
    "- **Lacking kitchen available (%):** p-value = 0.156 --> not statistically significant at the 0.05 level\n",
    "- **No internet subscription (%):** p-value = 0.005 --> statistically significant at the 0.05 level\n",
    "\n",
    "Please note that we are dropping the 'Have Access' for each variable as we explored them simply to see the data in a wholistic view. "
   ]
  },
  {
   "cell_type": "markdown",
   "metadata": {},
   "source": [
    "#### Exploring Multicollinearity within variables\n",
    "\n",
    "Now that we have explored the socioeconomic variables to the food insecurity rate, we will determine if there is any variance in our dataset by examining the relationship between the variables."
   ]
  },
  {
   "cell_type": "code",
   "execution_count": 15,
   "metadata": {
    "execution": {
     "iopub.execute_input": "2025-04-28T01:06:06.560843Z",
     "iopub.status.busy": "2025-04-28T01:06:06.559929Z",
     "iopub.status.idle": "2025-04-28T01:06:07.075449Z",
     "shell.execute_reply": "2025-04-28T01:06:07.074008Z",
     "shell.execute_reply.started": "2025-04-28T01:06:06.560807Z"
    },
    "trusted": true
   },
   "outputs": [
    {
     "data": {
      "image/png": "[encoded data removed]",
      "text/plain": [
       "<Figure size 720x576 with 2 Axes>"
      ]
     },
     "metadata": {
      "needs_background": "light"
     },
     "output_type": "display_data"
    }
   ],
   "source": [
    "# Create a correlation matrix\n",
    "corr_matrix = df_clean.drop(columns=['County']).corr()  # Drop County because it's text\n",
    "\n",
    "plt.figure(figsize=(10,8))\n",
    "sns.heatmap(corr_matrix, annot=True, cmap='coolwarm', fmt=\".2f\")\n",
    "plt.title('Correlation Matrix')\n",
    "plt.show()"
   ]
  },
  {
   "cell_type": "code",
   "execution_count": 16,
   "metadata": {
    "execution": {
     "iopub.execute_input": "2025-04-28T01:06:07.077266Z",
     "iopub.status.busy": "2025-04-28T01:06:07.076856Z",
     "iopub.status.idle": "2025-04-28T01:06:07.108654Z",
     "shell.execute_reply": "2025-04-28T01:06:07.107356Z",
     "shell.execute_reply.started": "2025-04-28T01:06:07.077243Z"
    },
    "trusted": true
   },
   "outputs": [
    {
     "data": {
      "text/html": [
       "<div>\n",
       "<style scoped>\n",
       "    .dataframe tbody tr th:only-of-type {\n",
       "        vertical-align: middle;\n",
       "    }\n",
       "\n",
       "    .dataframe tbody tr th {\n",
       "        vertical-align: top;\n",
       "    }\n",
       "\n",
       "    .dataframe thead th {\n",
       "        text-align: right;\n",
       "    }\n",
       "</style>\n",
       "<table border=\"1\" class=\"dataframe\">\n",
       "  <thead>\n",
       "    <tr style=\"text-align: right;\">\n",
       "      <th></th>\n",
       "      <th>features</th>\n",
       "      <th>VIF Factor</th>\n",
       "    </tr>\n",
       "  </thead>\n",
       "  <tbody>\n",
       "    <tr>\n",
       "      <th>0</th>\n",
       "      <td>No vehicle available (%)</td>\n",
       "      <td>8.110729</td>\n",
       "    </tr>\n",
       "    <tr>\n",
       "      <th>1</th>\n",
       "      <td>Lacking kitchen available (%)</td>\n",
       "      <td>2.725426</td>\n",
       "    </tr>\n",
       "    <tr>\n",
       "      <th>2</th>\n",
       "      <td>No internet subscription (%)</td>\n",
       "      <td>9.848242</td>\n",
       "    </tr>\n",
       "  </tbody>\n",
       "</table>\n",
       "</div>"
      ],
      "text/plain": [
       "                        features  VIF Factor\n",
       "0       No vehicle available (%)    8.110729\n",
       "1  Lacking kitchen available (%)    2.725426\n",
       "2   No internet subscription (%)    9.848242"
      ]
     },
     "execution_count": 16,
     "metadata": {},
     "output_type": "execute_result"
    }
   ],
   "source": [
    "# Exploring Multicollinearity with VIF\n",
    "from statsmodels.stats.outliers_influence import variance_inflation_factor\n",
    "\n",
    "X = df_clean[['No vehicle available (%)', 'Lacking kitchen available (%)', 'No internet subscription (%)']]\n",
    "\n",
    "# Empty Dataframe\n",
    "vif = pd.DataFrame()\n",
    "\n",
    "vif[\"features\"] = X.columns\n",
    "\n",
    "vif[\"VIF Factor\"] = [variance_inflation_factor(X.values, i) for i in range(X.shape[1])]\n",
    "vif"
   ]
  },
  {
   "cell_type": "markdown",
   "metadata": {},
   "source": [
    "#### **Multicollinearity Analysis**\n",
    "\n",
    "After running the VIF analysis, it can be determined that two of our three variables have high multicollinearity. High multicollinearity can distort the results of a regression model by making it hard to tell which variable is actually influencing the outcome.\n",
    "\n",
    "No vehicle available (%) and No internet subscription (%) have high VIF values (> 5), indicating that they are strongly correlated. As the prediction model may struggle to decide which variable to \"give credit\" to when making predictions, we will be be dropping \"No vehicle available (%)\".\n",
    "\n",
    "Lacking kitchen available (%) has a low VIF and can be used in the prediction model.\n",
    "\n",
    "| Feature                      | VIF Value | Meaning                                   |\n",
    "|:------------------------------|:----------|:------------------------------------------|\n",
    "| No vehicle available (%)      | 8.11      | High multicollinearity (problematic)    |\n",
    "| Lacking kitchen available (%) | 2.73      | No collinearity, independent factor                      |\n",
    "| No internet subscription (%)  | 9.85      | Very high multicollinearity (critical) |\n",
    "\n"
   ]
  },
  {
   "cell_type": "markdown",
   "metadata": {},
   "source": [
    "### **Phase 4: Prediction - Prediction model for high vs. low food insecurity**"
   ]
  },
  {
   "cell_type": "markdown",
   "metadata": {},
   "source": [
    "The regression analysis revealed that the percentage of the population with no internet subscription has a statistically significant positive association with the Food Insecurity Rate. This suggests that communities with a higher proportion of individuals without internet access tend to experience higher levels of food insecurity. While this linear relationship delineates potential risk factors, for future applications such as resource allocation and targeted interventions, it might be useful to predict whether a community falls into a 'high' or 'low' food insecurity category. Therefore, the next step in our analysis is to develop classification models that can predict these distinct categories based on the same set of socioeconomic indicators."
   ]
  },
  {
   "cell_type": "code",
   "execution_count": 17,
   "metadata": {
    "execution": {
     "iopub.execute_input": "2025-04-28T01:06:07.111109Z",
     "iopub.status.busy": "2025-04-28T01:06:07.110151Z",
     "iopub.status.idle": "2025-04-28T01:06:07.119684Z",
     "shell.execute_reply": "2025-04-28T01:06:07.118425Z",
     "shell.execute_reply.started": "2025-04-28T01:06:07.111062Z"
    },
    "trusted": true
   },
   "outputs": [
    {
     "name": "stdout",
     "output_type": "stream",
     "text": [
      "Mean Food Insecurity Rate: 12.26%\n",
      "Standard Deviation: 1.61%\n",
      "Threshold for High Risk: 13.87%\n"
     ]
    }
   ],
   "source": [
    "import pandas as pd\n",
    "from sklearn.model_selection import train_test_split\n",
    "from sklearn.linear_model import LogisticRegression\n",
    "from sklearn.metrics import accuracy_score, classification_report, confusion_matrix\n",
    "import statsmodels.api as sm\n",
    "\n",
    "# Create a Binary Classification for 'High' and 'Low' food insecurity\n",
    "food_insecurity_mean = df_clean['Food Insecurity Rate'].mean()\n",
    "food_insecurity_std = df_clean['Food Insecurity Rate'].std()\n",
    "\n",
    "benchmark = food_insecurity_mean + food_insecurity_std\n",
    "\n",
    "\n",
    "print(f\"Mean Food Insecurity Rate: {round(food_insecurity_mean, 2)}%\")\n",
    "print(f\"Standard Deviation: {round(food_insecurity_std, 2)}%\")\n",
    "print(f\"Threshold for High Risk: {round(benchmark, 2)}%\")"
   ]
  },
  {
   "cell_type": "code",
   "execution_count": 18,
   "metadata": {
    "execution": {
     "iopub.execute_input": "2025-04-28T01:06:07.121326Z",
     "iopub.status.busy": "2025-04-28T01:06:07.121002Z",
     "iopub.status.idle": "2025-04-28T01:06:07.148699Z",
     "shell.execute_reply": "2025-04-28T01:06:07.147509Z",
     "shell.execute_reply.started": "2025-04-28T01:06:07.121301Z"
    },
    "trusted": true
   },
   "outputs": [
    {
     "name": "stdout",
     "output_type": "stream",
     "text": [
      "                 County  High Risk\n",
      "0        Alachua County          0\n",
      "1            Bay County          1\n",
      "2        Brevard County          0\n",
      "3        Broward County          0\n",
      "4      Charlotte County          0\n",
      "5         Citrus County          1\n",
      "6           Clay County          0\n",
      "7        Collier County          0\n",
      "8       Columbia County          1\n",
      "9          Duval County          0\n",
      "10      Escambia County          0\n",
      "11       Flagler County          0\n",
      "12      Hernando County          1\n",
      "13     Highlands County          1\n",
      "14  Hillsborough County          0\n",
      "15  Indian River County          0\n",
      "16          Lake County          0\n",
      "17           Lee County          0\n",
      "18          Leon County          0\n",
      "19       Manatee County          0\n",
      "20        Marion County          0\n",
      "21        Martin County          0\n",
      "22    Miami-Dade County          0\n",
      "23        Monroe County          0\n",
      "24        Nassau County          0\n",
      "25      Okaloosa County          0\n",
      "26        Orange County          0\n",
      "27       Osceola County          0\n",
      "28    Palm Beach County          0\n",
      "29         Pasco County          0\n",
      "30      Pinellas County          0\n",
      "31          Polk County          0\n",
      "32        Putnam County          1\n",
      "33     St. Johns County          0\n",
      "34     St. Lucie County          0\n",
      "35    Santa Rosa County          0\n",
      "36      Sarasota County          0\n",
      "37      Seminole County          0\n",
      "38        Sumter County          0\n",
      "39       Volusia County          0\n",
      "40        Walton County          0\n"
     ]
    }
   ],
   "source": [
    "# Add binary classification into original dataset \n",
    "high_risk_counties = df_clean[df_clean['Food Insecurity Rate'] > benchmark]\n",
    "\n",
    "df_clean['High Risk'] = (df_clean['Food Insecurity Rate'] > benchmark).astype(int)\n",
    "\n",
    "df_risk = df_clean.iloc[:,[0,8,1,2,3,4,5,6,7]]\n",
    "\n",
    "df_risk.head(5)\n",
    "print(df_risk[['County','High Risk']]) # See which counties are classified as 'High Risk'"
   ]
  },
  {
   "cell_type": "markdown",
   "metadata": {},
   "source": []
  },
  {
   "cell_type": "markdown",
   "metadata": {},
   "source": [
    "*Please note that only 41 out of 67 counties in FL are being evaluated. This is because of missing data from the 5 different datasets*"
   ]
  },
  {
   "cell_type": "code",
   "execution_count": 19,
   "metadata": {
    "execution": {
     "iopub.execute_input": "2025-04-28T01:06:07.150573Z",
     "iopub.status.busy": "2025-04-28T01:06:07.150133Z",
     "iopub.status.idle": "2025-04-28T01:06:07.289127Z",
     "shell.execute_reply": "2025-04-28T01:06:07.288087Z",
     "shell.execute_reply.started": "2025-04-28T01:06:07.150543Z"
    },
    "trusted": true
   },
   "outputs": [
    {
     "data": {
      "image/png": "[encoded data removed]",
      "text/plain": [
       "<Figure size 432x288 with 1 Axes>"
      ]
     },
     "metadata": {},
     "output_type": "display_data"
    }
   ],
   "source": [
    "# Visualize the number of high risk to low risk counties\n",
    "risk_counts = df_risk['High Risk'].value_counts()\n",
    "\n",
    "# Generate a pie chart\n",
    "fig, ax = plt.subplots()\n",
    "ax.pie(risk_counts.values, labels=risk_counts.index.map({0: 'Low Risk', 1: 'High Risk'}), colors=['cadetblue', 'salmon'], autopct='%1.1f%%', startangle=90)\n",
    "\n",
    "plt.title('Proportion of High Risk Counties to Low Risk Counties in Florida')\n",
    "plt.show()"
   ]
  },
  {
   "cell_type": "markdown",
   "metadata": {},
   "source": [
    "Please note that this pie chart indicates that we have a high imbalanced dataset. This will lead us to our next step, creating syntheic data for a more accurate prediction model. "
   ]
  },
  {
   "cell_type": "markdown",
   "metadata": {},
   "source": [
    "### **Prediction Model based off Regression model & VIF**\n",
    "\n",
    "Based on the findings from the VIF analysis, we will build a prediction model for high-impact counties using the statistically significant factor of no internet accessibility.\n",
    "\n",
    "It’s important to note that with only 47 counties in this dataset, it is too small to build a reliable and accurate prediction model. As such, we will be synthesizing additional data to expand the dataset and then run a prediction model on the larger dataset.\n",
    "\n",
    "#### **Using Bootstrapping for Model Validation**\n",
    "- Given that we only have 47 counties in our dataset, bootstrapping will stabalize our model and provide a reliabile prediction of High/Low risk counties\n",
    "- Provides an estimate of model variability, allowing measurment of uncertainty in predictions and a better understanding of the model's generalization ability"
   ]
  },
  {
   "cell_type": "code",
   "execution_count": 24,
   "metadata": {
    "execution": {
     "iopub.execute_input": "2025-04-28T01:06:19.627311Z",
     "iopub.status.busy": "2025-04-28T01:06:19.626756Z",
     "iopub.status.idle": "2025-04-28T01:06:19.654119Z",
     "shell.execute_reply": "2025-04-28T01:06:19.652328Z",
     "shell.execute_reply.started": "2025-04-28T01:06:19.627274Z"
    },
    "trusted": true
   },
   "outputs": [],
   "source": [
    "from sklearn.preprocessing import StandardScaler\n",
    "from sklearn.model_selection import RepeatedStratifiedKFold, cross_val_score, cross_val_predict\n",
    "from sklearn.linear_model import LogisticRegression\n",
    "from sklearn.metrics import classification_report, roc_auc_score, confusion_matrix\n",
    "from imblearn.pipeline import Pipeline as ImbPipeline\n",
    "from imblearn.over_sampling import SMOTE\n",
    "from collections import Counter"
   ]
  },
  {
   "cell_type": "code",
   "execution_count": 33,
   "metadata": {},
   "outputs": [
    {
     "name": "stdout",
     "output_type": "stream",
     "text": [
      "After resampling: Counter({1: 20, 0: 20})\n"
     ]
    }
   ],
   "source": [
    "# Step 1: Set up features and target\n",
    "X = df_risk[['No internet subscription (%)']]  # Your chosen feature(s)\n",
    "y = df_risk['High Risk']  # Target variable\n",
    "\n",
    "# Step 2: Split the data into training and test sets (increase test size to 30%)\n",
    "X_train, X_test, y_train, y_test = train_test_split(X, y, test_size=0.4, random_state=100)\n",
    "\n",
    "# Count your training labels\n",
    "counter = Counter(y_train)\n",
    "\n",
    "# How many samples do you have for the minority class?\n",
    "minority_class_count = min(counter.values())\n",
    "\n",
    "# Set k_neighbors safely (can't be >= number of minority samples)\n",
    "safe_k_neighbors = min(5, minority_class_count - 1)\n",
    "\n",
    "# Initialize SMOTE with a safe number of neighbors\n",
    "smt = SMOTE(k_neighbors=safe_k_neighbors, random_state=100)\n",
    "\n",
    "# Apply SMOTE to the training data\n",
    "X_train_sm, y_train_sm = smt.fit_resample(X_train, y_train)\n",
    "\n",
    "# Check new class balance\n",
    "print('After resampling:', Counter(y_train_sm))"
   ]
  },
  {
   "cell_type": "markdown",
   "metadata": {},
   "source": [
    "There is an equal distribution of low-risk (class 0) and high-risk (class 1) samples.\n",
    "<br>\n",
    "The imbalance issue is resolved."
   ]
  },
  {
   "cell_type": "markdown",
   "metadata": {},
   "source": [
    "#### **Prediction Model: No internet subscription (%) & Food Insecurity Rate**"
   ]
  },
  {
   "cell_type": "code",
   "execution_count": 34,
   "metadata": {},
   "outputs": [
    {
     "name": "stdout",
     "output_type": "stream",
     "text": [
      "Confusion Matrix:\n",
      "[[14  1]\n",
      " [ 1  1]]\n",
      "\n",
      "Classification Report:\n",
      "              precision    recall  f1-score   support\n",
      "\n",
      "           0       0.93      0.93      0.93        15\n",
      "           1       0.50      0.50      0.50         2\n",
      "\n",
      "    accuracy                           0.88        17\n",
      "   macro avg       0.72      0.72      0.72        17\n",
      "weighted avg       0.88      0.88      0.88        17\n",
      "\n",
      "\n",
      "Accuracy Score:\n",
      "0.8823529411764706\n"
     ]
    }
   ],
   "source": [
    "# Step 3: Initialize the Logistic Regression model\n",
    "log_reg = LogisticRegression(random_state=100)\n",
    "\n",
    "# Step 4: Train (fit) the model on the SMOTE-resampled training data\n",
    "log_reg.fit(X_train_sm, y_train_sm)\n",
    "\n",
    "# Step 5: Predict on the test set (X_test is *NOT* SMOTE-resampled)\n",
    "y_pred = log_reg.predict(X_test)\n",
    "\n",
    "# Step 6: Evaluate the model\n",
    "print(\"Confusion Matrix:\")\n",
    "print(confusion_matrix(y_test, y_pred))\n",
    "\n",
    "print(\"\\nClassification Report:\")\n",
    "print(classification_report(y_test, y_pred))\n",
    "\n",
    "print(\"\\nAccuracy Score:\")\n",
    "print(accuracy_score(y_test, y_pred))"
   ]
  },
  {
   "cell_type": "markdown",
   "metadata": {},
   "source": [
    "### **Analysis:**\n",
    "\n",
    "With an accuracy of 88.2%, the model is showing decent performance but still has room for improvement, especially in its ability to correctly predict high-risk communities.\n",
    "\n",
    "Given that 17 samples were tested in the test set, 15 were found to be low risk and 2 to be high risk.\n",
    "\n",
    "#### **Key Observations:**\n",
    "\n",
    "##### Low Risk: correctly identified most low-risk communities and is reliable\n",
    "- The model correctly identified 93% of all predictions for low-risk communities.\n",
    "- TThe model captured 93% of all actual low-risk communities.\n",
    "- The model balances precision and recall well for low-risk communities.\n",
    "  \n",
    "##### High Risk: weak prediction, missing many high-risk communities (both false negatives and false positives)\n",
    "- The model only correctly identified 50% of high-risk communities.\n",
    "- The model identified 50% of all actual high-risk communities.\n",
    "- The model struggles to balance precision and recall for high-risk communities.\n",
    "\n",
    "##### Looking at the confustion matrix:\n",
    "- True Negatives (TN): **14 samples correctly predicted as low risk (class 0)**\n",
    "\n",
    "- False Positives (FP): **1 sample incorrectly predicted as high risk when it was actually low risk**\n",
    "\n",
    "- False Negatives (FN): **1 sample incorrectly predicted as low risk when it was actually high risk**\n",
    "\n",
    "- True Positives (TP): **1 sample correctly predicted as high risk (class 1)**\n",
    "\n",
    "\n",
    "\n",
    "#### Limitation\n",
    "\n",
    "The model may still be influenced by data imbalance, especially considering the performance drop for the minority class (high risk). Even after applying SMOTE, the small sample size (only 2 high-risk samples) can lead to overfitting or underperformance for that class.\n",
    "\n",
    "\n",
    "<br> \n",
    "\n"
   ]
  },
  {
   "cell_type": "markdown",
   "metadata": {},
   "source": [
    "### **Exploring prediction model for all 3 variables**\n",
    "\n",
    "The data's imbalance is causing our model to have poor performance for the high-risk minority class. Despite applying SMOTE, due to the extremely small sample size, the prediction model cannot be used. A larger sample of high-risk communities is needed to improve the model's precision and recall for this critical class and prevent overfitting.\n",
    "<br>\n",
    "We will explore all three variables which will provide a more comprehensive understanding of food insecurity factors, as well as draw the relation betwen complex interactions between variables. The model will likely generalize well despite the current dataset limitations."
   ]
  },
  {
   "cell_type": "code",
   "execution_count": null,
   "metadata": {
    "execution": {
     "iopub.status.busy": "2025-04-28T01:06:07.487270Z",
     "iopub.status.idle": "2025-04-28T01:06:07.487565Z",
     "shell.execute_reply": "2025-04-28T01:06:07.487447Z",
     "shell.execute_reply.started": "2025-04-28T01:06:07.487433Z"
    },
    "trusted": true
   },
   "outputs": [
    {
     "name": "stdout",
     "output_type": "stream",
     "text": [
      "\n",
      "Accuracy of the Logistic Regression model: 0.92\n",
      "\n",
      "Classification Report:\n",
      "              precision    recall  f1-score   support\n",
      "\n",
      "           0       0.91      1.00      0.95        10\n",
      "           1       1.00      0.67      0.80         3\n",
      "\n",
      "    accuracy                           0.92        13\n",
      "   macro avg       0.95      0.83      0.88        13\n",
      "weighted avg       0.93      0.92      0.92        13\n",
      "\n",
      "Confusion Matrix:\n",
      "[[10  0]\n",
      " [ 1  2]]\n"
     ]
    }
   ],
   "source": [
    "#Split and train data to make predictions\n",
    "\n",
    "# Asign X and y labels\n",
    "X = df_risk[['No vehicle available (%)', \"Lacking kitchen available (%)\", \"No internet subscription (%)\"]]\n",
    "y = df_risk['High Risk']\n",
    "\n",
    "# Split the data into training and testing sets\n",
    "X_train, X_test, y_train, y_test = train_test_split(X, y, test_size=0.3, random_state=42)\n",
    "\n",
    "# Initialize and train the Logistic Regression model\n",
    "model = LogisticRegression(random_state=42)\n",
    "model.fit(X_train, y_train)\n",
    "\n",
    "# Make predictions on the test set\n",
    "y_pred = model.predict(X_test)\n",
    "\n",
    "# Evaluate the model\n",
    "accuracy = accuracy_score(y_test, y_pred)\n",
    "print(f\"\\nAccuracy of the Logistic Regression model: {accuracy:.2f}\")\n",
    "\n",
    "print(\"\\nClassification Report:\")\n",
    "print(classification_report(y_test, y_pred))\n",
    "\n",
    "print(\"Confusion Matrix:\")\n",
    "print(confusion_matrix(y_test, y_pred))"
   ]
  },
  {
   "cell_type": "markdown",
   "metadata": {},
   "source": [
    "### **Analysis:**\n",
    "\n",
    "With an accuracy of 92%, we can state that the model is performing well but still making a few errors. \n",
    "\n",
    "Given that 13 samples were tested in the test set, 10 were found to be low risk and 3 to be high risk.\n",
    "\n",
    "#### **Key Observations**\n",
    "##### Low Risk \n",
    "- When the model predicted a community as low risk (class 0), it was correct 91% of the time.\n",
    "- The model correctly identified 100% of the actual low-risk communities in the test set.\n",
    "- The F1-score is high, indicating a good balance between precision and recall for the low-risk class.\n",
    "\n",
    "  \n",
    "##### High Risk\n",
    "- The model predicted a community as high risk with 100% accuracy. There were no false positives.\n",
    "- The model correctly identified 67% of the high-risk communities in the test set (missing 1 out of 3).\n",
    "- The F1-score (at .80) is still good but lower than the low-risk class. This could potenally mean there's an imbalance in performance. This could be due to the smaller number of high-risk samples in the test set\n",
    "\n",
    "##### Looking at the confustion matrix:\n",
    "- True Negatives (TN): The model correctly predicted **10 low-risk communities**.\n",
    "- False Positives (FP): The model incorrectly predicted **0 low-risk communities as high risk**.\n",
    "- False Negatives (FN): The model incorrectly predicted **1 high-risk community as low risk**.\n",
    "- True Positives (TP): The model correctly predicted **2 high-risk communities**.\n"
   ]
  },
  {
   "cell_type": "markdown",
   "metadata": {},
   "source": [
    "## Conclusion\n",
    "### What does this study mean?\n",
    "\n",
    "The regression analysis, by identifying \"No internet subscription (%)\" as a statistically significant factor positively associated with the continuous \"Food Insecurity Rate,\" lays the groundwork for practical application by highlighting a key vulnerability. Subsequently, the successful classification model, which likely incorporates this relationship along with other socioeconomic indicators, demonstrates the predictive utility of these factors in categorizing communities as high or low risk. This consistency between identifying a significant association and achieving accurate risk prediction allows for targeted interventions, policy recommendations, resource allocation, and further research into the underlying causes of food insecurity, ultimately enabling data-driven strategies to support vulnerable populations better. \n",
    "\n",
    "With a starting point/emphasis on internet subscriptions, resources can be allocated there. We can consider the other vehicles and perhaps advocate for more readily available public transport. Though our dataset was small, we can apply it to bigger datasets like all counties in the US."
   ]
  },
  {
   "cell_type": "markdown",
   "metadata": {
    "execution": {
     "iopub.execute_input": "2025-04-24T02:37:48.097153Z",
     "iopub.status.busy": "2025-04-24T02:37:48.096684Z",
     "iopub.status.idle": "2025-04-24T02:37:48.106109Z",
     "shell.execute_reply": "2025-04-24T02:37:48.104383Z",
     "shell.execute_reply.started": "2025-04-24T02:37:48.097122Z"
    }
   },
   "source": [
    "### Future Works\n",
    "- If possible, more data should be gathered for the high-risk class. Having more samples of high-risk communities would allow SMOTE to generate more diverse synthetic examples, which can help the model perform better. Perhaps the addition of data from more than 1 year, or 1 state could give us a better prediction model. \n",
    "- While the regression analysis identified statistically significant associations and the classification model demonstrated predictive power, correlation does not imply causation. The socioeconomic indicators you used might be correlated with other underlying factors that directly influence food insecurity. Further research using causal inference techniques would be needed to establish causal relationships.\n",
    "-  Your choice of one standard deviation above the mean to define \"high risk\" is a statistical convention. This threshold might not align with real-world definitions used by practitioners or policymakers. The model's performance could vary depending on the chosen threshold, and a different threshold might be more appropriate for specific applications.\n",
    "-   While Logistic Regression offers some interpretability, more complex models might achieve higher predictive accuracy but be harder to understand and explain.\n",
    "<br>\n",
    "<br>\n",
    "<br>\n",
    "<br>\n",
    "<br>"
   ]
  },
  {
   "cell_type": "markdown",
   "metadata": {},
   "source": [
    "## Summary\n",
    "\n",
    "This project investigated the relationship between access to basic resources (internet, vehicle, kitchen) and food insecurity rates across counties in Florida.\n",
    "\n",
    "\n",
    "#### **Our goals were to:**\n",
    "\n",
    "• Explore the socioeconomic factors influencing food insecurity.\n",
    "\n",
    "• Classify counties into high-risk and low-risk groups based on food insecurity rates.\n",
    "\n",
    "• Build a predictive model to estimate food insecurity risk based on accessibility factors. \n",
    "  \n",
    "<br>\n",
    "\n",
    "#### **Key Steps:**\n",
    "\n",
    "**1. Data Collection and Cleaning:**\n",
    "\n",
    "• Collected 2019–2022 socioeconomic data from the American Community Survey (ACS).\n",
    "\n",
    "• Normalized access variables (internet, vehicle, kitchen) by county population.\n",
    "<br>\n",
    "\n",
    "**2. Data Exploration:**\n",
    "\n",
    "• Created scatterplots and histograms to visualize relationships between access variables and food insecurity rates.\n",
    "\n",
    "• Identified lack of internet access as a particularly strong correlate of food insecurity.\n",
    "<br>\n",
    "\n",
    "**3. Statistical Analysis:**\n",
    "\n",
    "• Conducted a correlation analysis and a Variance Inflation Factor (VIF) test.\n",
    "\n",
    "• Found that internet access and vehicle access are highly correlated (high VIF values), suggesting multicollinearity.\n",
    "<br>\n",
    "\n",
    "**4. Decision-Making:**\n",
    "\n",
    "• Based on multicollinearity results, we decided to prioritize lack of internet access as the main feature for prediction.\n",
    "\n",
    "• Vehicle access was considered but treated carefully due to potential redundancy.\n",
    "<br>\n",
    "\n",
    "**5. Prediction Preparation:**\n",
    "\n",
    "• Set a threshold for high/low food insecurity based on the mean plus standard deviation of the food insecurity rates.\n",
    "\n",
    "• Classified counties accordingly to prepare labels for machine learning.\n",
    "\n",
    "<br>\n",
    "\n",
    "#### **Main Findings:**\n",
    "\n",
    "• Internet access is a strong and statistically significant predictor of food insecurity risk.\n",
    "\n",
    "• Vehicle access shows some relationship but overlaps heavily with internet access, so using only internet access improves model simplicity and reliability.\n",
    "\n",
    "<br>\n",
    "\n",
    "#### **Impact:**\n",
    "\n",
    "• The insights suggest that improving internet infrastructure may help mitigate food insecurity risks.\n",
    "\n",
    "• The prediction model can help target interventions more effectively by identifying high-risk counties using simple, available socioeconomic data."
   ]
  },
  {
   "cell_type": "markdown",
   "metadata": {},
   "source": []
  }
 ],
 "metadata": {
  "kaggle": {
   "accelerator": "none",
   "dataSources": [
    {
     "datasetId": 7215337,
     "sourceId": 11507668,
     "sourceType": "datasetVersion"
    }
   ],
   "dockerImageVersionId": 31012,
   "isGpuEnabled": false,
   "isInternetEnabled": false,
   "language": "python",
   "sourceType": "notebook"
  },
  "kernelspec": {
   "display_name": "Python 3",
   "language": "python",
   "name": "python3"
  },
  "language_info": {
   "codemirror_mode": {
    "name": "ipython",
    "version": 3
   },
   "file_extension": ".py",
   "mimetype": "text/x-python",
   "name": "python",
   "nbconvert_exporter": "python",
   "pygments_lexer": "ipython3",
   "version": "3.8.5"
  }
 },
 "nbformat": 4,
 "nbformat_minor": 4
}
